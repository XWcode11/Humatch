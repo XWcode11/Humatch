{
 "cells": [
  {
   "cell_type": "code",
   "execution_count": 1,
   "metadata": {},
   "outputs": [],
   "source": [
    "import os\n",
    "import time\n",
    "import yaml\n",
    "import pandas as pd\n",
    "# suppress warnings about having no GPU\n",
    "os.environ['TF_CPP_MIN_LOG_LEVEL'] = '3'\n",
    "\n",
    "import tensorflow as tf\n",
    "import logging\n",
    "# suppress warnings about tf retracing\n",
    "tf.get_logger().setLevel('ERROR')\n",
    "logging.getLogger('tensorflow').setLevel(logging.ERROR)\n",
    "\n",
    "from Humatch.humanise import humanise\n",
    "from Humatch.model import load_cnn\n",
    "from Humatch.germline_likeness import get_normalised_germline_likeness_score, mutate_seq_to_match_germline_likeness\n",
    "from Humatch.utils import get_edit_distance\n",
    "from Humatch.plot import highlight_differnces_between_two_seqs"
   ]
  },
  {
   "cell_type": "markdown",
   "metadata": {},
   "source": [
    "### Load pre-aligned non-human sequences\n",
    "\n",
    "We skip the sequence alignment step here for simplicity. Code to do this can be found in the classification notebook."
   ]
  },
  {
   "cell_type": "code",
   "execution_count": 2,
   "metadata": {},
   "outputs": [
    {
     "name": "stdout",
     "output_type": "stream",
     "text": [
      "(10, 3)\n"
     ]
    },
    {
     "data": {
      "text/html": [
       "<div>\n",
       "<style scoped>\n",
       "    .dataframe tbody tr th:only-of-type {\n",
       "        vertical-align: middle;\n",
       "    }\n",
       "\n",
       "    .dataframe tbody tr th {\n",
       "        vertical-align: top;\n",
       "    }\n",
       "\n",
       "    .dataframe thead th {\n",
       "        text-align: right;\n",
       "    }\n",
       "</style>\n",
       "<table border=\"1\" class=\"dataframe\">\n",
       "  <thead>\n",
       "    <tr style=\"text-align: right;\">\n",
       "      <th></th>\n",
       "      <th>is_human</th>\n",
       "      <th>heavy</th>\n",
       "      <th>light</th>\n",
       "    </tr>\n",
       "  </thead>\n",
       "  <tbody>\n",
       "    <tr>\n",
       "      <th>0</th>\n",
       "      <td>0</td>\n",
       "      <td>EVK-LVESGG-GLVQPGGSLRLSCATSGFTF---------TDYYMS...</td>\n",
       "      <td>DVV-MTQTPLSLPVSLGDQASISCRSSQSLVHS------NGNTYLH...</td>\n",
       "    </tr>\n",
       "    <tr>\n",
       "      <th>1</th>\n",
       "      <td>0</td>\n",
       "      <td>EVQ-LVESGG-GLVQPGRSLKLSCAASGFTF---------SNYYMA...</td>\n",
       "      <td>DIV-MTQGALPNPVPSGESVSITCRSSKSLLYS------DGKTYLN...</td>\n",
       "    </tr>\n",
       "  </tbody>\n",
       "</table>\n",
       "</div>"
      ],
      "text/plain": [
       "   is_human                                              heavy  \\\n",
       "0         0  EVK-LVESGG-GLVQPGGSLRLSCATSGFTF---------TDYYMS...   \n",
       "1         0  EVQ-LVESGG-GLVQPGRSLKLSCAASGFTF---------SNYYMA...   \n",
       "\n",
       "                                               light  \n",
       "0  DVV-MTQTPLSLPVSLGDQASISCRSSQSLVHS------NGNTYLH...  \n",
       "1  DIV-MTQGALPNPVPSGESVSITCRSSKSLLYS------DGKTYLN...  "
      ]
     },
     "execution_count": 2,
     "metadata": {},
     "output_type": "execute_result"
    }
   ],
   "source": [
    "root_dir = os.path.dirname(os.path.abspath(\"\"))\n",
    "data = os.path.join(root_dir, \"data\", \"example_prealigned.csv\")\n",
    "df = pd.read_csv(data)\n",
    "df = df[df[\"is_human\"]==0].reset_index(drop=True)\n",
    "print(df.shape)\n",
    "df.head(2)"
   ]
  },
  {
   "cell_type": "markdown",
   "metadata": {},
   "source": [
    "### Load CNNs"
   ]
  },
  {
   "cell_type": "code",
   "execution_count": 3,
   "metadata": {},
   "outputs": [],
   "source": [
    "weights_dir = os.path.join(root_dir, \"Humatch\", \"trained_models\")\n",
    "\n",
    "cnn_heavy = load_cnn(os.path.join(weights_dir, \"heavy.weights.h5\"), \"heavy\")\n",
    "cnn_light = load_cnn(os.path.join(weights_dir, \"light.weights.h5\"), \"light\")\n",
    "cnn_paired = load_cnn(os.path.join(weights_dir, \"paired.weights.h5\"), \"paired\")"
   ]
  },
  {
   "cell_type": "markdown",
   "metadata": {},
   "source": [
    "### Germline-likeness mutations\n",
    "\n",
    "Demonstrate GL mutations in isolation to highlight their speed. Users may choose residues that they wish to remain fixed. Though the example sequence is closest to hv3, we can choose to jump to e.g. hv1 if desired by changing the target gene."
   ]
  },
  {
   "cell_type": "code",
   "execution_count": 4,
   "metadata": {},
   "outputs": [
    {
     "name": "stdout",
     "output_type": "stream",
     "text": [
      "GL-score (hv1) of original sequence:\t0.28\n",
      "GL-score (hv1) of mutated sequence:\t0.40\n",
      "Edit distance between both sequences:\t27\n",
      "\n",
      "EVK-LVESGG-GLVQPGGSLRLSCATSGFTF---------TDYYMS-WVRQ-P-P-G-K--A-LE-WLGFIRNKA---------NGYTTEY--S--A--SV--K---GRFTISR-D---N-S--QS----I-LYLQMNTLRA-EDSATYYCARDDG----------------------------YFAYWG-QGTLVTVSA\n",
      "  Q   Q  A EVKK    VKV  K                           A        G     M                            Q  KF        V  T                 T A M L    S   T V                                                   S\n",
      "EVQ-LVQSGA-EVKKPGGSVKVSCKTSGFTF---------TDYYMS-WVRQ-A-P-G-K--G-LE-WMGFIRNKA---------NGYTTEY--S--Q--KF--K---GRVTITR-D---N-S--QS----T-AYMQLNTLRS-EDTAVYYCARDDG----------------------------YFAYWG-QGTLVTVSS\n"
     ]
    }
   ],
   "source": [
    "example_seq = df[\"heavy\"][0]\n",
    "target_gene = \"hv1\"\n",
    "target_score = 0.40\n",
    "allow_CDR_mutations = False\n",
    "fixed_imgt_positions = [\"1 \", \"81 \", \"81A\", \"120 \"]\n",
    "germline_mutated_seq = mutate_seq_to_match_germline_likeness(example_seq, target_gene, target_score,\n",
    "                                                             allow_CDR_mutations, fixed_imgt_positions)\n",
    "\n",
    "print(f\"GL-score ({target_gene}) of original sequence:\\t{get_normalised_germline_likeness_score(example_seq, target_gene):.2f}\")\n",
    "print(f\"GL-score ({target_gene}) of mutated sequence:\\t{get_normalised_germline_likeness_score(germline_mutated_seq, target_gene):.2f}\")\n",
    "print(f\"Edit distance between both sequences:\\t{get_edit_distance(example_seq, germline_mutated_seq)}\\n\")\n",
    "print(example_seq)\n",
    "print(highlight_differnces_between_two_seqs(example_seq, germline_mutated_seq))\n",
    "print(germline_mutated_seq)"
   ]
  },
  {
   "cell_type": "markdown",
   "metadata": {},
   "source": [
    "### Humanise"
   ]
  },
  {
   "cell_type": "code",
   "execution_count": 5,
   "metadata": {},
   "outputs": [
    {
     "name": "stdout",
     "output_type": "stream",
     "text": [
      "Matching germilne likeness for hv3 and kv2\n",
      "Designing and scoring single point variants\n",
      "\tIt. #1\tCNN-H: 0.04,\tCNN-L: 0.00,\tCNN-P: 0.99,\tEdit: 2\n",
      "\tIt. #2\tCNN-H: 0.30,\tCNN-L: 0.00,\tCNN-P: 0.98,\tEdit: 3\n",
      "\tIt. #3\tCNN-H: 0.30,\tCNN-L: 0.00,\tCNN-P: 0.98,\tEdit: 4\n",
      "\tIt. #4\tCNN-H: 0.30,\tCNN-L: 0.00,\tCNN-P: 0.99,\tEdit: 5\n",
      "\tIt. #5\tCNN-H: 0.30,\tCNN-L: 0.06,\tCNN-P: 1.00,\tEdit: 6\n",
      "\tIt. #6\tCNN-H: 0.30,\tCNN-L: 0.31,\tCNN-P: 1.00,\tEdit: 7\n",
      "\tIt. #7\tCNN-H: 0.74,\tCNN-L: 0.31,\tCNN-P: 1.00,\tEdit: 8\n",
      "\tIt. #8\tCNN-H: 0.74,\tCNN-L: 0.69,\tCNN-P: 1.00,\tEdit: 9\n",
      "\tIt. #9\tCNN-H: 0.74,\tCNN-L: 0.93,\tCNN-P: 1.00,\tEdit: 10\n",
      "\tIt. #10\tCNN-H: 0.95,\tCNN-L: 0.93,\tCNN-P: 1.00,\tEdit: 11\n",
      "Humanised sequences:\n",
      "\tEVKLVESGGGLVQPGGSLRLSCATSGFTFTDYYMSWVRQAPGKGLEWLGFIRNKANGYTTEYAASVKGRFTISRDNSQSILYLQMNTLRAEDSAVYYCARDDGYFAYWGQGTLVTVSS\n",
      "\tDIVMTQTPLSLPVTLGQPASISCRSSQSLVHSNGNTYLHWYLQKPGQSPKLLIYKVSNRFSGVPDRFSGSGSGTDFTLKISRVEAEDVGVYYCSQSTHVPLTFGQGTKLELK\n",
      "Time taken to humanise: 32.3s\n"
     ]
    }
   ],
   "source": [
    "example_heavy_seq, example_light_seq = df[\"heavy\"][0], df[\"light\"][0]\n",
    "with open(os.path.join(root_dir, \"Humatch\", \"configs\", \"default.yaml\")) as f:\n",
    "    config = yaml.safe_load(f)\n",
    "\n",
    "# Set environment variables to limit the number of CPUs\n",
    "start_time = time.time()\n",
    "humatch_output = humanise(example_heavy_seq, example_light_seq, cnn_heavy, cnn_light, cnn_paired, config, verbose=True)\n",
    "print(f\"Time taken to humanise: {time.time()-start_time:.1f}s\")"
   ]
  },
  {
   "cell_type": "code",
   "execution_count": 6,
   "metadata": {},
   "outputs": [
    {
     "data": {
      "text/plain": [
       "{'Humatch_H': 'EVK-LVESGG-GLVQPGGSLRLSCATSGFTF---------TDYYMS-WVRQ-A-P-G-K--G-LE-WLGFIRNKA---------NGYTTEY--A--A--SV--K---GRFTISR-D---N-S--QS----I-LYLQMNTLRA-EDSAVYYCARDDG----------------------------YFAYWG-QGTLVTVSS',\n",
       " 'Humatch_L': 'DIV-MTQTPLSLPVTLGQPASISCRSSQSLVHS------NGNTYLH-WYLQ-K-P-G-Q--S-PK-LLIYKV----------------SNR--F--S--GV--P---DRFSGSG-------S--GT----D-FTLKISRVEA-EDVGVYYCSQSTH----------------------------VPLTFG-QGTKLELK-',\n",
       " 'Edit': 12,\n",
       " 'HV': 'hv3',\n",
       " 'LV': 'kv2',\n",
       " 'CNN_H': 0.95458233,\n",
       " 'CNN_L': 0.9665863,\n",
       " 'CNN_P': 0.9996456}"
      ]
     },
     "execution_count": 6,
     "metadata": {},
     "output_type": "execute_result"
    }
   ],
   "source": [
    "# full output\n",
    "humatch_output"
   ]
  },
  {
   "cell_type": "code",
   "execution_count": 7,
   "metadata": {},
   "outputs": [
    {
     "name": "stdout",
     "output_type": "stream",
     "text": [
      "\n",
      "Heavy\n",
      "EVK-LVESGG-GLVQPGGSLRLSCATSGFTF---------TDYYMS-WVRQ-P-P-G-K--A-LE-WLGFIRNKA---------NGYTTEY--S--A--SV--K---GRFTISR-D---N-S--QS----I-LYLQMNTLRA-EDSATYYCARDDG----------------------------YFAYWG-QGTLVTVSA\n",
      "                                                    A        G                               A                                                     V                                                   S\n",
      "EVK-LVESGG-GLVQPGGSLRLSCATSGFTF---------TDYYMS-WVRQ-A-P-G-K--G-LE-WLGFIRNKA---------NGYTTEY--A--A--SV--K---GRFTISR-D---N-S--QS----I-LYLQMNTLRA-EDSAVYYCARDDG----------------------------YFAYWG-QGTLVTVSS\n",
      "\n",
      "Light\n",
      "DVV-MTQTPLSLPVSLGDQASISCRSSQSLVHS------NGNTYLH-WYLQ-K-P-G-Q--S-PK-LLIYKV----------------SNR--F--S--GV--P---DRFSGSG-------S--GT----D-FTLKISRVEA-EDLGVYFCSQSTH----------------------------VPLTFG-AGTKLELK-\n",
      " I            T  QP                                                                                                                              V   Y                                         Q        \n",
      "DIV-MTQTPLSLPVTLGQPASISCRSSQSLVHS------NGNTYLH-WYLQ-K-P-G-Q--S-PK-LLIYKV----------------SNR--F--S--GV--P---DRFSGSG-------S--GT----D-FTLKISRVEA-EDVGVYYCSQSTH----------------------------VPLTFG-QGTKLELK-\n"
     ]
    }
   ],
   "source": [
    "# exmaine mutation locations\n",
    "humanised_heavy_seq, humanised_light_seq = humatch_output[\"Humatch_H\"], humatch_output[\"Humatch_L\"]\n",
    "print(f\"\\nHeavy\\n{example_heavy_seq}\\n{highlight_differnces_between_two_seqs(example_heavy_seq, humanised_heavy_seq)}\\n{humanised_heavy_seq}\")\n",
    "print(f\"\\nLight\\n{example_light_seq}\\n{highlight_differnces_between_two_seqs(example_light_seq, humanised_light_seq)}\\n{humanised_light_seq}\")"
   ]
  }
 ],
 "metadata": {
  "kernelspec": {
   "display_name": ".humatch_venv",
   "language": "python",
   "name": "python3"
  },
  "language_info": {
   "codemirror_mode": {
    "name": "ipython",
    "version": 3
   },
   "file_extension": ".py",
   "mimetype": "text/x-python",
   "name": "python",
   "nbconvert_exporter": "python",
   "pygments_lexer": "ipython3",
   "version": "3.9.19"
  }
 },
 "nbformat": 4,
 "nbformat_minor": 2
}
